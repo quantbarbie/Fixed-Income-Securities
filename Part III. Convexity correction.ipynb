{
 "cells": [
  {
   "cell_type": "markdown",
   "id": "10f882d4",
   "metadata": {},
   "source": [
    "# QF605 Part 3\n",
    "## Convexity Correction "
   ]
  },
  {
   "cell_type": "markdown",
   "id": "c8494770",
   "metadata": {},
   "source": [
    "Naming of Files and Variables: \n",
    "* File containing OIS discount factors (OISDiscountFactors), LIBOR discount factors (LIBORDiscountFactors) from Part 1 - 'Discount Factors.csv'\n",
    "* File containing SABR data from Part 2 - 'data_SABR.csv'\n",
    "* Output file contains CMS rates (CMS_Rate) and forward swap rates (Forward_Swap_Rate) - 'Rates.csv'\n"
   ]
  },
  {
   "cell_type": "code",
   "execution_count": 1,
   "id": "470694ed",
   "metadata": {},
   "outputs": [],
   "source": [
    "import numpy as np\n",
    "import pandas as pd\n",
    "import matplotlib.pyplot as plt\n",
    "from scipy.optimize import brentq, least_squares\n",
    "from scipy.stats import norm\n",
    "from scipy.integrate import quad\n",
    "from math import log, exp, sqrt\n",
    "from scipy import interpolate\n",
    "from scipy.interpolate import CubicSpline"
   ]
  },
  {
   "cell_type": "code",
   "execution_count": 2,
   "id": "b0973300",
   "metadata": {},
   "outputs": [
    {
     "data": {
      "text/html": [
       "<div>\n",
       "<style scoped>\n",
       "    .dataframe tbody tr th:only-of-type {\n",
       "        vertical-align: middle;\n",
       "    }\n",
       "\n",
       "    .dataframe tbody tr th {\n",
       "        vertical-align: top;\n",
       "    }\n",
       "\n",
       "    .dataframe thead th {\n",
       "        text-align: right;\n",
       "    }\n",
       "</style>\n",
       "<table border=\"1\" class=\"dataframe\">\n",
       "  <thead>\n",
       "    <tr style=\"text-align: right;\">\n",
       "      <th></th>\n",
       "      <th>Tenor</th>\n",
       "      <th>OISDiscountFactors</th>\n",
       "      <th>LIBORDiscountFactors</th>\n",
       "    </tr>\n",
       "  </thead>\n",
       "  <tbody>\n",
       "    <tr>\n",
       "      <th>0</th>\n",
       "      <td>0.0</td>\n",
       "      <td>1.000000</td>\n",
       "      <td>1.000000</td>\n",
       "    </tr>\n",
       "    <tr>\n",
       "      <th>1</th>\n",
       "      <td>0.5</td>\n",
       "      <td>0.998752</td>\n",
       "      <td>0.987654</td>\n",
       "    </tr>\n",
       "    <tr>\n",
       "      <th>2</th>\n",
       "      <td>1.0</td>\n",
       "      <td>0.997009</td>\n",
       "      <td>0.972577</td>\n",
       "    </tr>\n",
       "    <tr>\n",
       "      <th>3</th>\n",
       "      <td>1.5</td>\n",
       "      <td>0.995270</td>\n",
       "      <td>0.957378</td>\n",
       "    </tr>\n",
       "    <tr>\n",
       "      <th>4</th>\n",
       "      <td>2.0</td>\n",
       "      <td>0.993531</td>\n",
       "      <td>0.942179</td>\n",
       "    </tr>\n",
       "    <tr>\n",
       "      <th>5</th>\n",
       "      <td>2.5</td>\n",
       "      <td>0.991773</td>\n",
       "      <td>0.926330</td>\n",
       "    </tr>\n",
       "    <tr>\n",
       "      <th>6</th>\n",
       "      <td>3.0</td>\n",
       "      <td>0.990015</td>\n",
       "      <td>0.910482</td>\n",
       "    </tr>\n",
       "    <tr>\n",
       "      <th>7</th>\n",
       "      <td>3.5</td>\n",
       "      <td>0.988066</td>\n",
       "      <td>0.894731</td>\n",
       "    </tr>\n",
       "    <tr>\n",
       "      <th>8</th>\n",
       "      <td>4.0</td>\n",
       "      <td>0.986117</td>\n",
       "      <td>0.878981</td>\n",
       "    </tr>\n",
       "    <tr>\n",
       "      <th>9</th>\n",
       "      <td>4.5</td>\n",
       "      <td>0.984150</td>\n",
       "      <td>0.863985</td>\n",
       "    </tr>\n",
       "    <tr>\n",
       "      <th>10</th>\n",
       "      <td>5.0</td>\n",
       "      <td>0.982184</td>\n",
       "      <td>0.848989</td>\n",
       "    </tr>\n",
       "    <tr>\n",
       "      <th>11</th>\n",
       "      <td>5.5</td>\n",
       "      <td>0.979733</td>\n",
       "      <td>0.832796</td>\n",
       "    </tr>\n",
       "    <tr>\n",
       "      <th>12</th>\n",
       "      <td>6.0</td>\n",
       "      <td>0.977283</td>\n",
       "      <td>0.816603</td>\n",
       "    </tr>\n",
       "    <tr>\n",
       "      <th>13</th>\n",
       "      <td>6.5</td>\n",
       "      <td>0.974844</td>\n",
       "      <td>0.800409</td>\n",
       "    </tr>\n",
       "    <tr>\n",
       "      <th>14</th>\n",
       "      <td>7.0</td>\n",
       "      <td>0.972406</td>\n",
       "      <td>0.784216</td>\n",
       "    </tr>\n",
       "  </tbody>\n",
       "</table>\n",
       "</div>"
      ],
      "text/plain": [
       "    Tenor  OISDiscountFactors  LIBORDiscountFactors\n",
       "0     0.0            1.000000              1.000000\n",
       "1     0.5            0.998752              0.987654\n",
       "2     1.0            0.997009              0.972577\n",
       "3     1.5            0.995270              0.957378\n",
       "4     2.0            0.993531              0.942179\n",
       "5     2.5            0.991773              0.926330\n",
       "6     3.0            0.990015              0.910482\n",
       "7     3.5            0.988066              0.894731\n",
       "8     4.0            0.986117              0.878981\n",
       "9     4.5            0.984150              0.863985\n",
       "10    5.0            0.982184              0.848989\n",
       "11    5.5            0.979733              0.832796\n",
       "12    6.0            0.977283              0.816603\n",
       "13    6.5            0.974844              0.800409\n",
       "14    7.0            0.972406              0.784216"
      ]
     },
     "execution_count": 2,
     "metadata": {},
     "output_type": "execute_result"
    }
   ],
   "source": [
    "# Import OIS and LIBOR discount factors and Forward LIBOR rate from Part 1\n",
    "df_comb = pd.read_csv('Discount Factors.csv')\n",
    "df_comb.drop('Unnamed: 0', axis = 1, inplace = True)\n",
    "df_comb.rename(columns = {\"Forward LIBOR\" : \"F_LIBOR\"}, inplace = True)\n",
    "df_comb.head(15)"
   ]
  },
  {
   "cell_type": "code",
   "execution_count": 3,
   "id": "3ab881b2",
   "metadata": {},
   "outputs": [
    {
     "data": {
      "text/html": [
       "<div>\n",
       "<style scoped>\n",
       "    .dataframe tbody tr th:only-of-type {\n",
       "        vertical-align: middle;\n",
       "    }\n",
       "\n",
       "    .dataframe tbody tr th {\n",
       "        vertical-align: top;\n",
       "    }\n",
       "\n",
       "    .dataframe thead th {\n",
       "        text-align: right;\n",
       "    }\n",
       "</style>\n",
       "<table border=\"1\" class=\"dataframe\">\n",
       "  <thead>\n",
       "    <tr style=\"text-align: right;\">\n",
       "      <th></th>\n",
       "      <th>Expiry</th>\n",
       "      <th>Tenor</th>\n",
       "      <th>-200bps</th>\n",
       "      <th>-150bps</th>\n",
       "      <th>-100bps</th>\n",
       "      <th>-50bps</th>\n",
       "      <th>-25bps</th>\n",
       "      <th>ATM</th>\n",
       "      <th>+25bps</th>\n",
       "      <th>+50bps</th>\n",
       "      <th>+100bps</th>\n",
       "      <th>+150bps</th>\n",
       "      <th>+200bps</th>\n",
       "      <th>Alpha</th>\n",
       "      <th>Rho</th>\n",
       "      <th>Nu</th>\n",
       "      <th>FSR</th>\n",
       "    </tr>\n",
       "  </thead>\n",
       "  <tbody>\n",
       "    <tr>\n",
       "      <th>0</th>\n",
       "      <td>1Y</td>\n",
       "      <td>1Y</td>\n",
       "      <td>0.852100</td>\n",
       "      <td>0.649244</td>\n",
       "      <td>0.485885</td>\n",
       "      <td>0.342300</td>\n",
       "      <td>0.274718</td>\n",
       "      <td>0.212339</td>\n",
       "      <td>0.176342</td>\n",
       "      <td>0.185770</td>\n",
       "      <td>0.238179</td>\n",
       "      <td>0.289294</td>\n",
       "      <td>0.334656</td>\n",
       "      <td>0.139071</td>\n",
       "      <td>-0.633220</td>\n",
       "      <td>2.049466</td>\n",
       "      <td>0.032007</td>\n",
       "    </tr>\n",
       "    <tr>\n",
       "      <th>1</th>\n",
       "      <td>1Y</td>\n",
       "      <td>2Y</td>\n",
       "      <td>0.795508</td>\n",
       "      <td>0.628196</td>\n",
       "      <td>0.492548</td>\n",
       "      <td>0.376302</td>\n",
       "      <td>0.325071</td>\n",
       "      <td>0.281848</td>\n",
       "      <td>0.254519</td>\n",
       "      <td>0.249436</td>\n",
       "      <td>0.277820</td>\n",
       "      <td>0.317316</td>\n",
       "      <td>0.355440</td>\n",
       "      <td>0.184646</td>\n",
       "      <td>-0.525118</td>\n",
       "      <td>1.677430</td>\n",
       "      <td>0.033259</td>\n",
       "    </tr>\n",
       "    <tr>\n",
       "      <th>2</th>\n",
       "      <td>1Y</td>\n",
       "      <td>3Y</td>\n",
       "      <td>0.717213</td>\n",
       "      <td>0.577409</td>\n",
       "      <td>0.464131</td>\n",
       "      <td>0.368890</td>\n",
       "      <td>0.328342</td>\n",
       "      <td>0.295084</td>\n",
       "      <td>0.273235</td>\n",
       "      <td>0.265725</td>\n",
       "      <td>0.281280</td>\n",
       "      <td>0.310833</td>\n",
       "      <td>0.341674</td>\n",
       "      <td>0.196851</td>\n",
       "      <td>-0.482845</td>\n",
       "      <td>1.438142</td>\n",
       "      <td>0.034011</td>\n",
       "    </tr>\n",
       "    <tr>\n",
       "      <th>3</th>\n",
       "      <td>1Y</td>\n",
       "      <td>5Y</td>\n",
       "      <td>0.545014</td>\n",
       "      <td>0.448515</td>\n",
       "      <td>0.370492</td>\n",
       "      <td>0.306643</td>\n",
       "      <td>0.280645</td>\n",
       "      <td>0.260099</td>\n",
       "      <td>0.246637</td>\n",
       "      <td>0.241045</td>\n",
       "      <td>0.248039</td>\n",
       "      <td>0.266158</td>\n",
       "      <td>0.286839</td>\n",
       "      <td>0.178052</td>\n",
       "      <td>-0.414426</td>\n",
       "      <td>1.064877</td>\n",
       "      <td>0.035255</td>\n",
       "    </tr>\n",
       "    <tr>\n",
       "      <th>4</th>\n",
       "      <td>1Y</td>\n",
       "      <td>10Y</td>\n",
       "      <td>0.409542</td>\n",
       "      <td>0.350648</td>\n",
       "      <td>0.303771</td>\n",
       "      <td>0.267954</td>\n",
       "      <td>0.254733</td>\n",
       "      <td>0.245122</td>\n",
       "      <td>0.239316</td>\n",
       "      <td>0.237128</td>\n",
       "      <td>0.241125</td>\n",
       "      <td>0.251517</td>\n",
       "      <td>0.264376</td>\n",
       "      <td>0.171097</td>\n",
       "      <td>-0.264557</td>\n",
       "      <td>0.778081</td>\n",
       "      <td>0.038428</td>\n",
       "    </tr>\n",
       "    <tr>\n",
       "      <th>5</th>\n",
       "      <td>5Y</td>\n",
       "      <td>1Y</td>\n",
       "      <td>0.623919</td>\n",
       "      <td>0.514960</td>\n",
       "      <td>0.420888</td>\n",
       "      <td>0.337534</td>\n",
       "      <td>0.300096</td>\n",
       "      <td>0.267197</td>\n",
       "      <td>0.242232</td>\n",
       "      <td>0.229332</td>\n",
       "      <td>0.235992</td>\n",
       "      <td>0.260114</td>\n",
       "      <td>0.286974</td>\n",
       "      <td>0.166535</td>\n",
       "      <td>-0.585217</td>\n",
       "      <td>1.339732</td>\n",
       "      <td>0.039274</td>\n",
       "    </tr>\n",
       "    <tr>\n",
       "      <th>6</th>\n",
       "      <td>5Y</td>\n",
       "      <td>2Y</td>\n",
       "      <td>0.557235</td>\n",
       "      <td>0.474891</td>\n",
       "      <td>0.404990</td>\n",
       "      <td>0.345230</td>\n",
       "      <td>0.319420</td>\n",
       "      <td>0.297064</td>\n",
       "      <td>0.279127</td>\n",
       "      <td>0.266603</td>\n",
       "      <td>0.258398</td>\n",
       "      <td>0.265891</td>\n",
       "      <td>0.280117</td>\n",
       "      <td>0.199503</td>\n",
       "      <td>-0.546899</td>\n",
       "      <td>1.061928</td>\n",
       "      <td>0.040075</td>\n",
       "    </tr>\n",
       "    <tr>\n",
       "      <th>7</th>\n",
       "      <td>5Y</td>\n",
       "      <td>3Y</td>\n",
       "      <td>0.521672</td>\n",
       "      <td>0.450471</td>\n",
       "      <td>0.390606</td>\n",
       "      <td>0.340045</td>\n",
       "      <td>0.318345</td>\n",
       "      <td>0.299434</td>\n",
       "      <td>0.283804</td>\n",
       "      <td>0.271959</td>\n",
       "      <td>0.260239</td>\n",
       "      <td>0.261425</td>\n",
       "      <td>0.269763</td>\n",
       "      <td>0.210367</td>\n",
       "      <td>-0.549848</td>\n",
       "      <td>0.936740</td>\n",
       "      <td>0.040072</td>\n",
       "    </tr>\n",
       "    <tr>\n",
       "      <th>8</th>\n",
       "      <td>5Y</td>\n",
       "      <td>5Y</td>\n",
       "      <td>0.415678</td>\n",
       "      <td>0.366746</td>\n",
       "      <td>0.326197</td>\n",
       "      <td>0.292705</td>\n",
       "      <td>0.278573</td>\n",
       "      <td>0.266296</td>\n",
       "      <td>0.256000</td>\n",
       "      <td>0.247793</td>\n",
       "      <td>0.237671</td>\n",
       "      <td>0.234852</td>\n",
       "      <td>0.237089</td>\n",
       "      <td>0.191124</td>\n",
       "      <td>-0.511628</td>\n",
       "      <td>0.671316</td>\n",
       "      <td>0.041093</td>\n",
       "    </tr>\n",
       "    <tr>\n",
       "      <th>9</th>\n",
       "      <td>5Y</td>\n",
       "      <td>10Y</td>\n",
       "      <td>0.341557</td>\n",
       "      <td>0.309482</td>\n",
       "      <td>0.283273</td>\n",
       "      <td>0.262126</td>\n",
       "      <td>0.253360</td>\n",
       "      <td>0.245787</td>\n",
       "      <td>0.239401</td>\n",
       "      <td>0.234183</td>\n",
       "      <td>0.227065</td>\n",
       "      <td>0.223810</td>\n",
       "      <td>0.223520</td>\n",
       "      <td>0.177442</td>\n",
       "      <td>-0.440745</td>\n",
       "      <td>0.493883</td>\n",
       "      <td>0.043634</td>\n",
       "    </tr>\n",
       "    <tr>\n",
       "      <th>10</th>\n",
       "      <td>10Y</td>\n",
       "      <td>1Y</td>\n",
       "      <td>0.529920</td>\n",
       "      <td>0.453622</td>\n",
       "      <td>0.387715</td>\n",
       "      <td>0.330639</td>\n",
       "      <td>0.305802</td>\n",
       "      <td>0.284228</td>\n",
       "      <td>0.266943</td>\n",
       "      <td>0.255009</td>\n",
       "      <td>0.247895</td>\n",
       "      <td>0.256197</td>\n",
       "      <td>0.270931</td>\n",
       "      <td>0.177518</td>\n",
       "      <td>-0.545692</td>\n",
       "      <td>1.007072</td>\n",
       "      <td>0.042190</td>\n",
       "    </tr>\n",
       "    <tr>\n",
       "      <th>11</th>\n",
       "      <td>10Y</td>\n",
       "      <td>2Y</td>\n",
       "      <td>0.499324</td>\n",
       "      <td>0.434494</td>\n",
       "      <td>0.378781</td>\n",
       "      <td>0.331032</td>\n",
       "      <td>0.310386</td>\n",
       "      <td>0.292342</td>\n",
       "      <td>0.277422</td>\n",
       "      <td>0.266154</td>\n",
       "      <td>0.255288</td>\n",
       "      <td>0.257065</td>\n",
       "      <td>0.265863</td>\n",
       "      <td>0.195014</td>\n",
       "      <td>-0.543819</td>\n",
       "      <td>0.924870</td>\n",
       "      <td>0.043116</td>\n",
       "    </tr>\n",
       "    <tr>\n",
       "      <th>12</th>\n",
       "      <td>10Y</td>\n",
       "      <td>3Y</td>\n",
       "      <td>0.474332</td>\n",
       "      <td>0.417784</td>\n",
       "      <td>0.369244</td>\n",
       "      <td>0.327762</td>\n",
       "      <td>0.309801</td>\n",
       "      <td>0.293963</td>\n",
       "      <td>0.280553</td>\n",
       "      <td>0.269881</td>\n",
       "      <td>0.257330</td>\n",
       "      <td>0.255174</td>\n",
       "      <td>0.259844</td>\n",
       "      <td>0.207150</td>\n",
       "      <td>-0.550697</td>\n",
       "      <td>0.868996</td>\n",
       "      <td>0.044097</td>\n",
       "    </tr>\n",
       "    <tr>\n",
       "      <th>13</th>\n",
       "      <td>10Y</td>\n",
       "      <td>5Y</td>\n",
       "      <td>0.401897</td>\n",
       "      <td>0.360026</td>\n",
       "      <td>0.324036</td>\n",
       "      <td>0.293263</td>\n",
       "      <td>0.279855</td>\n",
       "      <td>0.267868</td>\n",
       "      <td>0.257420</td>\n",
       "      <td>0.248633</td>\n",
       "      <td>0.236343</td>\n",
       "      <td>0.230795</td>\n",
       "      <td>0.230550</td>\n",
       "      <td>0.201541</td>\n",
       "      <td>-0.562603</td>\n",
       "      <td>0.719896</td>\n",
       "      <td>0.046249</td>\n",
       "    </tr>\n",
       "    <tr>\n",
       "      <th>14</th>\n",
       "      <td>10Y</td>\n",
       "      <td>10Y</td>\n",
       "      <td>0.333267</td>\n",
       "      <td>0.305579</td>\n",
       "      <td>0.281635</td>\n",
       "      <td>0.261220</td>\n",
       "      <td>0.252359</td>\n",
       "      <td>0.244433</td>\n",
       "      <td>0.237479</td>\n",
       "      <td>0.231530</td>\n",
       "      <td>0.222685</td>\n",
       "      <td>0.217722</td>\n",
       "      <td>0.216043</td>\n",
       "      <td>0.180205</td>\n",
       "      <td>-0.507723</td>\n",
       "      <td>0.579627</td>\n",
       "      <td>0.053458</td>\n",
       "    </tr>\n",
       "  </tbody>\n",
       "</table>\n",
       "</div>"
      ],
      "text/plain": [
       "   Expiry Tenor   -200bps   -150bps   -100bps    -50bps    -25bps       ATM  \\\n",
       "0      1Y    1Y  0.852100  0.649244  0.485885  0.342300  0.274718  0.212339   \n",
       "1      1Y    2Y  0.795508  0.628196  0.492548  0.376302  0.325071  0.281848   \n",
       "2      1Y    3Y  0.717213  0.577409  0.464131  0.368890  0.328342  0.295084   \n",
       "3      1Y    5Y  0.545014  0.448515  0.370492  0.306643  0.280645  0.260099   \n",
       "4      1Y   10Y  0.409542  0.350648  0.303771  0.267954  0.254733  0.245122   \n",
       "5      5Y    1Y  0.623919  0.514960  0.420888  0.337534  0.300096  0.267197   \n",
       "6      5Y    2Y  0.557235  0.474891  0.404990  0.345230  0.319420  0.297064   \n",
       "7      5Y    3Y  0.521672  0.450471  0.390606  0.340045  0.318345  0.299434   \n",
       "8      5Y    5Y  0.415678  0.366746  0.326197  0.292705  0.278573  0.266296   \n",
       "9      5Y   10Y  0.341557  0.309482  0.283273  0.262126  0.253360  0.245787   \n",
       "10    10Y    1Y  0.529920  0.453622  0.387715  0.330639  0.305802  0.284228   \n",
       "11    10Y    2Y  0.499324  0.434494  0.378781  0.331032  0.310386  0.292342   \n",
       "12    10Y    3Y  0.474332  0.417784  0.369244  0.327762  0.309801  0.293963   \n",
       "13    10Y    5Y  0.401897  0.360026  0.324036  0.293263  0.279855  0.267868   \n",
       "14    10Y   10Y  0.333267  0.305579  0.281635  0.261220  0.252359  0.244433   \n",
       "\n",
       "      +25bps    +50bps   +100bps   +150bps   +200bps     Alpha       Rho  \\\n",
       "0   0.176342  0.185770  0.238179  0.289294  0.334656  0.139071 -0.633220   \n",
       "1   0.254519  0.249436  0.277820  0.317316  0.355440  0.184646 -0.525118   \n",
       "2   0.273235  0.265725  0.281280  0.310833  0.341674  0.196851 -0.482845   \n",
       "3   0.246637  0.241045  0.248039  0.266158  0.286839  0.178052 -0.414426   \n",
       "4   0.239316  0.237128  0.241125  0.251517  0.264376  0.171097 -0.264557   \n",
       "5   0.242232  0.229332  0.235992  0.260114  0.286974  0.166535 -0.585217   \n",
       "6   0.279127  0.266603  0.258398  0.265891  0.280117  0.199503 -0.546899   \n",
       "7   0.283804  0.271959  0.260239  0.261425  0.269763  0.210367 -0.549848   \n",
       "8   0.256000  0.247793  0.237671  0.234852  0.237089  0.191124 -0.511628   \n",
       "9   0.239401  0.234183  0.227065  0.223810  0.223520  0.177442 -0.440745   \n",
       "10  0.266943  0.255009  0.247895  0.256197  0.270931  0.177518 -0.545692   \n",
       "11  0.277422  0.266154  0.255288  0.257065  0.265863  0.195014 -0.543819   \n",
       "12  0.280553  0.269881  0.257330  0.255174  0.259844  0.207150 -0.550697   \n",
       "13  0.257420  0.248633  0.236343  0.230795  0.230550  0.201541 -0.562603   \n",
       "14  0.237479  0.231530  0.222685  0.217722  0.216043  0.180205 -0.507723   \n",
       "\n",
       "          Nu       FSR  \n",
       "0   2.049466  0.032007  \n",
       "1   1.677430  0.033259  \n",
       "2   1.438142  0.034011  \n",
       "3   1.064877  0.035255  \n",
       "4   0.778081  0.038428  \n",
       "5   1.339732  0.039274  \n",
       "6   1.061928  0.040075  \n",
       "7   0.936740  0.040072  \n",
       "8   0.671316  0.041093  \n",
       "9   0.493883  0.043634  \n",
       "10  1.007072  0.042190  \n",
       "11  0.924870  0.043116  \n",
       "12  0.868996  0.044097  \n",
       "13  0.719896  0.046249  \n",
       "14  0.579627  0.053458  "
      ]
     },
     "execution_count": 3,
     "metadata": {},
     "output_type": "execute_result"
    }
   ],
   "source": [
    "# Import SABR data from Part 2\n",
    "df_SABRImpVol = pd.read_csv('data_SABR.csv')\n",
    "df_SABRImpVol.drop('Unnamed: 0', axis = 1, inplace = True)\n",
    "df_SABRImpVol.head(15)"
   ]
  },
  {
   "cell_type": "code",
   "execution_count": 4,
   "id": "4adf37b0",
   "metadata": {},
   "outputs": [],
   "source": [
    "# Extract SABR parameters (alpha, rho, nu) into dataframe for interpolation\n",
    "# Set index as expiry and column as tenors \n",
    "df_alpha = pd.DataFrame(data = df_SABRImpVol['Alpha'].values.reshape(3,5), index = [1,5,10], columns = [1,2,3,5,10])\n",
    "df_rho   = pd.DataFrame(data = df_SABRImpVol['Rho'].values.reshape(3,5), index = [1,5,10], columns = [1,2,3,5,10])\n",
    "df_nu    = pd.DataFrame(data = df_SABRImpVol['Nu'].values.reshape(3,5), index = [1,5,10], columns = [1,2,3,5,10])"
   ]
  },
  {
   "cell_type": "code",
   "execution_count": 5,
   "id": "12741988",
   "metadata": {},
   "outputs": [
    {
     "name": "stdout",
     "output_type": "stream",
     "text": [
      "          1         2         3         5         10\n",
      "1   0.139071  0.184646  0.196851  0.178052  0.171097\n",
      "5   0.166535  0.199503  0.210367  0.191124  0.177442\n",
      "10  0.177518  0.195014  0.207150  0.201541  0.180205\n"
     ]
    }
   ],
   "source": [
    "print(df_alpha)"
   ]
  },
  {
   "cell_type": "code",
   "execution_count": 6,
   "id": "24403e69",
   "metadata": {},
   "outputs": [
    {
     "name": "stdout",
     "output_type": "stream",
     "text": [
      "          1         2         3         5         10\n",
      "1  -0.633220 -0.525118 -0.482845 -0.414426 -0.264557\n",
      "5  -0.585217 -0.546899 -0.549848 -0.511628 -0.440745\n",
      "10 -0.545692 -0.543819 -0.550697 -0.562603 -0.507723\n"
     ]
    }
   ],
   "source": [
    "print(df_rho)"
   ]
  },
  {
   "cell_type": "code",
   "execution_count": 7,
   "id": "f7e398f2",
   "metadata": {},
   "outputs": [
    {
     "name": "stdout",
     "output_type": "stream",
     "text": [
      "          1         2         3         5         10\n",
      "1   2.049466  1.677430  1.438142  1.064877  0.778081\n",
      "5   1.339732  1.061928  0.936740  0.671316  0.493883\n",
      "10  1.007072  0.924870  0.868996  0.719896  0.579627\n"
     ]
    }
   ],
   "source": [
    "print(df_nu)"
   ]
  },
  {
   "cell_type": "markdown",
   "id": "ac3a0a62",
   "metadata": {},
   "source": [
    "### Interpolation"
   ]
  },
  {
   "cell_type": "code",
   "execution_count": 8,
   "id": "e2718d2d",
   "metadata": {},
   "outputs": [],
   "source": [
    "# Linear interpolation of LIBOR discount factors  \n",
    "def LIBORDF(T):\n",
    "    x = list(df_comb['Tenor'])\n",
    "    y = list(df_comb['LIBORDiscountFactors'])\n",
    "    return np.interp(T, x, y)\n",
    "\n",
    "# Linear interpolation of OIS discount factors  \n",
    "def OISDF(T):\n",
    "    x = list(df_comb['Tenor'])\n",
    "    y = list(df_comb['OISDiscountFactors'])\n",
    "    return np.interp(T, x, y)"
   ]
  },
  {
   "cell_type": "code",
   "execution_count": 9,
   "id": "100e7b44",
   "metadata": {},
   "outputs": [],
   "source": [
    "# Cubic Spline interpolation of SABR parameters\n",
    "def SABRParams(expiry, tenor, data):\n",
    "    splied_from_expiry = []\n",
    "    for i in [1,2,3,5,10]:\n",
    "        result = CubicSpline([1, 5, 10], data[i], bc_type=((2, 0.0), (2, 0.0)), extrapolate=True)\n",
    "        splied_from_expiry.append(result)\n",
    "\n",
    "    extract = []\n",
    "    for i in range(5):\n",
    "        extract.append(splied_from_expiry[i](expiry))\n",
    "\n",
    "    result = CubicSpline([1,2,3,5,10], extract, bc_type=((2, 0.0), (2, 0.0)), extrapolate=True)\n",
    "    return float(result(tenor))\n"
   ]
  },
  {
   "cell_type": "code",
   "execution_count": 10,
   "id": "22d4d01c",
   "metadata": {},
   "outputs": [],
   "source": [
    "x_range = np.arange(1,10.1,0.1)"
   ]
  },
  {
   "cell_type": "code",
   "execution_count": 11,
   "id": "9a6ca123",
   "metadata": {},
   "outputs": [
    {
     "name": "stdout",
     "output_type": "stream",
     "text": [
      "          1         2         3         5         10\n",
      "1   0.139071  0.184646  0.196851  0.178052  0.171097\n",
      "5   0.166535  0.199503  0.210367  0.191124  0.177442\n",
      "10  0.177518  0.195014  0.207150  0.201541  0.180205\n"
     ]
    },
    {
     "data": {
      "image/png": "[encoded data removed]",
      "text/plain": [
       "<Figure size 432x288 with 1 Axes>"
      ]
     },
     "metadata": {
      "needs_background": "light"
     },
     "output_type": "display_data"
    },
    {
     "data": {
      "image/png": "[encoded data removed]",
      "text/plain": [
       "<Figure size 432x288 with 1 Axes>"
      ]
     },
     "metadata": {
      "needs_background": "light"
     },
     "output_type": "display_data"
    }
   ],
   "source": [
    "print(df_alpha)\n",
    "\n",
    "plt.plot(x_range, [SABRParams(x, 2, df_alpha) for x in x_range])\n",
    "plt.title(\"Interpolation of SABR Alpha, Tenor = 2y\")\n",
    "plt.plot(df_alpha.index,df_alpha[2],\"o\")\n",
    "plt.grid()\n",
    "plt.show()\n",
    "\n",
    "plt.plot(x_range, [SABRParams(x, 10, df_alpha) for x in x_range])\n",
    "plt.title(\"Interpolation of SABR Alpha, Tenor = 10y\")\n",
    "plt.plot(df_alpha.index,df_alpha[10],\"o\")\n",
    "plt.grid()\n",
    "plt.show()"
   ]
  },
  {
   "cell_type": "code",
   "execution_count": 12,
   "id": "be822bc2",
   "metadata": {},
   "outputs": [
    {
     "name": "stdout",
     "output_type": "stream",
     "text": [
      "          1         2         3         5         10\n",
      "1  -0.633220 -0.525118 -0.482845 -0.414426 -0.264557\n",
      "5  -0.585217 -0.546899 -0.549848 -0.511628 -0.440745\n",
      "10 -0.545692 -0.543819 -0.550697 -0.562603 -0.507723\n"
     ]
    },
    {
     "data": {
      "image/png": "[encoded data removed]",
      "text/plain": [
       "<Figure size 432x288 with 1 Axes>"
      ]
     },
     "metadata": {
      "needs_background": "light"
     },
     "output_type": "display_data"
    },
    {
     "data": {
      "image/png": "[encoded data removed]",
      "text/plain": [
       "<Figure size 432x288 with 1 Axes>"
      ]
     },
     "metadata": {
      "needs_background": "light"
     },
     "output_type": "display_data"
    }
   ],
   "source": [
    "print(df_rho)\n",
    "\n",
    "plt.plot(x_range, [SABRParams(x, 2, df_rho) for x in x_range])\n",
    "plt.title(\"Interpolation of SABR Rho, Tenor = 2y\")\n",
    "plt.plot(df_rho.index,df_rho[2],\"o\")\n",
    "plt.grid()\n",
    "plt.show()\n",
    "\n",
    "plt.plot(x_range, [SABRParams(x, 10, df_rho) for x in x_range])\n",
    "plt.title(\"Interpolation of SABR Rho, Tenor = 10y\")\n",
    "plt.plot(df_rho.index,df_rho[10],\"o\")\n",
    "plt.grid()\n",
    "plt.show()"
   ]
  },
  {
   "cell_type": "code",
   "execution_count": 12,
   "id": "84516c2e",
   "metadata": {},
   "outputs": [
    {
     "name": "stdout",
     "output_type": "stream",
     "text": [
      "          1         2         3         5         10\n",
      "1   2.049466  1.677430  1.438142  1.064877  0.778081\n",
      "5   1.339732  1.061928  0.936740  0.671316  0.493883\n",
      "10  1.007072  0.924870  0.868996  0.719896  0.579627\n"
     ]
    },
    {
     "data": {
      "image/png": "[encoded data removed]",
      "text/plain": [
       "<Figure size 432x288 with 1 Axes>"
      ]
     },
     "metadata": {
      "needs_background": "light"
     },
     "output_type": "display_data"
    },
    {
     "data": {
      "image/png": "[encoded data removed]",
      "text/plain": [
       "<Figure size 432x288 with 1 Axes>"
      ]
     },
     "metadata": {
      "needs_background": "light"
     },
     "output_type": "display_data"
    }
   ],
   "source": [
    "print(df_nu)\n",
    "\n",
    "plt.plot(x_range, [SABRParams(x, 2, df_nu) for x in x_range])\n",
    "plt.title(\"Interpolation of SABR Nu, Tenor = 2y\")\n",
    "plt.plot(df_nu.index,df_nu[2],\"o\")\n",
    "plt.grid()\n",
    "plt.show()\n",
    "\n",
    "plt.plot(x_range, [SABRParams(x, 10, df_nu) for x in x_range])\n",
    "plt.title(\"Interpolation of SABR Nu, Tenor = 10y\")\n",
    "plt.plot(df_nu.index,df_nu[10],\"o\")\n",
    "plt.grid()\n",
    "plt.show()"
   ]
  },
  {
   "cell_type": "markdown",
   "id": "5d2907ad",
   "metadata": {},
   "source": [
    "### Setting Functions"
   ]
  },
  {
   "cell_type": "code",
   "execution_count": 13,
   "id": "9b0cd4a6",
   "metadata": {},
   "outputs": [],
   "source": [
    "# Black76 model for IRR settled options\n",
    "def Black76(F, K, T, r, sigma, option):\n",
    "    d1 = (log(F/K)+(sigma*sigma/2)*T)/(sigma*sqrt(T))\n",
    "    d2 = d1-sigma*sqrt(T)\n",
    "    if option == 'Call':\n",
    "        return F*exp(-r*T)*norm.cdf(d1) - K*exp(-r*T)*norm.cdf(d2)\n",
    "    elif option == 'Put':\n",
    "        return K*exp(-r*T)*norm.cdf(-d2) - F*exp(-r*T)*norm.cdf(-d1)\n",
    "\n",
    "# SABR model \n",
    "def SABR(F, K, T, alpha, beta, rho, nu):\n",
    "    X = K\n",
    "    if F == K:\n",
    "        numer1 = (((1 - beta)**2)/24)*alpha*alpha/(F**(2 - 2*beta))\n",
    "        numer2 = 0.25*rho*beta*nu*alpha/(F**(1 - beta))\n",
    "        numer3 = ((2 - 3*rho*rho)/24)*nu*nu\n",
    "        VolAtm = alpha*(1 + (numer1 + numer2 + numer3)*T)/(F**(1-beta))\n",
    "        sabrsigma = VolAtm\n",
    "    else:\n",
    "        z = (nu/alpha)*((F*X)**(0.5*(1-beta)))*np.log(F/X)\n",
    "        zhi = np.log((((1 - 2*rho*z + z*z)**0.5) + z - rho)/(1 - rho))\n",
    "        numer1 = (((1 - beta)**2)/24)*((alpha*alpha)/((F*X)**(1 - beta)))\n",
    "        numer2 = 0.25*rho*beta*nu*alpha/((F*X)**((1 - beta)/2))\n",
    "        numer3 = ((2 - 3*rho*rho)/24)*nu*nu\n",
    "        numer = alpha*(1 + (numer1 + numer2 + numer3)*T)*z\n",
    "        denom1 = ((1 - beta)**2/24)*(np.log(F/X))**2\n",
    "        denom2 = (((1 - beta)**4)/1920)*((np.log(F/X))**4)\n",
    "        denom = ((F*X)**((1 - beta)/2))*(1 + denom1 + denom2)*zhi\n",
    "        sabrsigma = numer/denom\n",
    "    return sabrsigma"
   ]
  },
  {
   "cell_type": "markdown",
   "id": "a6fa0bfe",
   "metadata": {},
   "source": [
    "$$ \n",
    "Forward\\ LIBOR = L(T_{i-1} , T_{i}) = \\frac{1}{\\Delta} \\frac{D_L(0, T_{i-1}) - D_L(0, T_i)}{D_L(0, T_i)}\n",
    "$$"
   ]
  },
  {
   "cell_type": "code",
   "execution_count": 14,
   "id": "e768b629",
   "metadata": {},
   "outputs": [],
   "source": [
    "# Obtain forward LIBOR from discount factors\n",
    "def forward_LIBOR(D1,D2,delta):\n",
    "    forward_LIBOR = (1/delta)*((D1-D2)/D2)\n",
    "    return forward_LIBOR"
   ]
  },
  {
   "cell_type": "markdown",
   "id": "f8337885",
   "metadata": {},
   "source": [
    "$$\n",
    "Forward\\ Swap\\ Rate = \\frac {PV_{Floating\\ Leg}}{PV_{Fixed\\ Leg}} = \\frac{\\sum_{n=i}^{N} D_0(0, T_i) \\cdot L(T_i, T_{i-1}) \\cdot \\Delta}{\\sum_{n=i}^{N} D_0(0,T_i) \\cdot \\Delta}\n",
    "$$"
   ]
  },
  {
   "cell_type": "code",
   "execution_count": 15,
   "id": "bf87bf4b",
   "metadata": {},
   "outputs": [],
   "source": [
    "def forward_SWAP_RATE(expiry, tenor, delta):   \n",
    "    number = int(tenor/delta) # number of payments \n",
    "    float_leg, fixed_leg = 0, 0 # initialize floating and fixed legs\n",
    "    \n",
    "    for i in range(1,number+1):\n",
    "        loc = expiry + i*delta\n",
    "        # Floating Leg PV = Summation of OIS discount factor x forward LIBOR x delta (use interpolated discount factors)\n",
    "        float_leg += OISDF(loc) * forward_LIBOR(LIBORDF(loc-delta),LIBORDF(loc),delta) * delta\n",
    "\n",
    "    for i in range(1,number+1):\n",
    "        loc = expiry + i*delta\n",
    "        # Fixed Leg PV = Summation of OIS discount factor x delta (use interpolated discount factors)\n",
    "        fixed_leg += OISDF(loc) * delta\n",
    "\n",
    "    return float_leg / fixed_leg"
   ]
  },
  {
   "cell_type": "markdown",
   "id": "05b2f015",
   "metadata": {},
   "source": [
    "$$\n",
    "IRR(K) = \\sum_{i=1}^{N \\cdot m} \\frac{\\frac{1}{m}}{(1+\\frac{K}{m})^i} \n",
    "$$ \n",
    "\n",
    "$$\n",
    "IRR'(K) = \\sum_{i=1}^{N \\cdot m} (-i) \\cdot \\frac{(\\frac{1}{m})^2}{(1+\\frac{K}{m})^{(i+1)}} \n",
    "$$\n",
    "\n",
    "$$\n",
    "IRR''(K) = \\sum_{i=1}^{N \\cdot m} (-i) \\cdot (-i-1) \\cdot \\frac{(\\frac{1}{m})^3}{(1+\\frac{K}{m})^{(i+2)}} \n",
    "$$\n",
    "\n",
    "where $\\frac{1}{m} = \\Delta$"
   ]
  },
  {
   "cell_type": "code",
   "execution_count": 16,
   "id": "72e20a8b",
   "metadata": {},
   "outputs": [],
   "source": [
    "# Calculation of IRR(K), IRR'(K) and IRR''(K)\n",
    "\n",
    "def IRR(Tenor, Delta, K):\n",
    "    total = 0\n",
    "    for i in np.arange(1, Tenor/Delta +1):\n",
    "        total += Delta*(1 + K* Delta)**(-i)\n",
    "    return total\n",
    "\n",
    "def IRR_1st(Tenor, Delta, K):\n",
    "    total = 0\n",
    "    for i in np.arange(1, Tenor/Delta +1):\n",
    "        total += (-i)*(Delta**2)*(1 + K* Delta)**(-i-1)\n",
    "    return total\n",
    "\n",
    "def IRR_2nd(Tenor, Delta, K):\n",
    "    total = 0\n",
    "    for i in np.arange(1, Tenor/Delta +1):\n",
    "        total += (-i)*(-i-1)*(Delta**3)*(1 + K* Delta)**(-i-2)\n",
    "    return total"
   ]
  },
  {
   "cell_type": "markdown",
   "id": "e37c44e4",
   "metadata": {},
   "source": [
    "$$ \n",
    "\\begin{equation}\n",
    "h^{\\prime \\prime}(K)=\\frac{-\\operatorname{IRR}^{\\prime \\prime}(K) \\cdot K-2 \\cdot \\operatorname{IRR}^{\\prime}(K)}{\\operatorname{IRR}(K)^{2}}+\\frac{2 \\cdot \\operatorname{IRR}^{\\prime}(K)^{2} \\cdot K}{\\operatorname{IRR}(K)^{3}}\n",
    "\\end{equation}\n",
    "$$"
   ]
  },
  {
   "cell_type": "code",
   "execution_count": 17,
   "id": "fb976d57",
   "metadata": {},
   "outputs": [],
   "source": [
    "def h_2nd(Tenor, Delta, K):\n",
    "    IRR0 = IRR(Tenor, Delta, K)\n",
    "    IRR1 = IRR_1st(Tenor, Delta, K)\n",
    "    IRR2 = IRR_2nd(Tenor, Delta, K) \n",
    "    return (-IRR2*K - 2*IRR1) / (IRR0**2) + 2*(IRR1**2)*K/(IRR0**3)"
   ]
  },
  {
   "cell_type": "markdown",
   "id": "24ea6674",
   "metadata": {},
   "source": [
    "Using static-replication and choosing $F = S_{n, N}(0)$ as our expansion point:\n",
    "\n",
    "\\begin{equation}\n",
    "\\begin{aligned}\n",
    "&V_{0}=D(0, T) g(F)+h^{\\prime}(F)\\left[V^{\\text {pay }}(F)-V^{r e c}(F)\\right] \\\\\n",
    "&\\quad+\\int_{0}^{F} h^{\\prime \\prime}(K) V^{r e c}(K) d K+\\int_{F^{\\prime}}^{\\infty} h^{\\prime \\prime}(K) V^{\\text {pay }}(K) d K \\\\\n",
    "&=D(0, T) g(F)+\\int_{0}^{F} h^{\\prime \\prime}(K) V^{r e c}(K) d K+\\int_{F}^{\\infty} h^{\\prime \\prime}(K) V^{p a y}(K) d K\n",
    "\\end{aligned}\n",
    "\\end{equation}"
   ]
  },
  {
   "cell_type": "markdown",
   "id": "bc7d1165",
   "metadata": {},
   "source": [
    "IRR-settled option pricer for $V_{rec}$ or $V_{pay}$ is:\n",
    "\n",
    "\\begin{equation} \n",
    "V(K)=D(0, T) \\cdot \\operatorname{IRR}\\left(S_{n, N}(0)\\right) \\cdot \\operatorname{Black} 76\\left(S_{n, N}(0), K, \\sigma_{\\mathrm{SABR}}, T\\right)\n",
    "\\end{equation}\n",
    "\n",
    "where $\\sigma_{\\mathrm{SABR}}$ is obtained from the SABR model.\n"
   ]
  },
  {
   "cell_type": "code",
   "execution_count": 18,
   "id": "f881c844",
   "metadata": {},
   "outputs": [],
   "source": [
    "def integrand(F, K, T, r, sigma, tenor, delta, option):\n",
    "    irr = IRR(tenor, delta, F)\n",
    "    h2 = h_2nd(tenor, delta, K)\n",
    "    return h2 * Black76(F, K, T, r, sigma, option)"
   ]
  },
  {
   "cell_type": "markdown",
   "id": "fcd8ae28",
   "metadata": {},
   "source": [
    "$$\n",
    "CMS\\ Rate = E^{T}\\left[S_{n, N}(T)\\right] = \n",
    "g(F)+\\frac{1}{D_{0}(0, T)}\\left[\\int_{0}^{F} h^{\\prime \\prime}(K) V^{\\text {rec }}(K) d K+\\int_{F}^{\\infty} h^{\\prime \\prime}(K) V^{\\text {pay }}(K) d K\\right]\n",
    "$$"
   ]
  },
  {
   "cell_type": "code",
   "execution_count": 19,
   "id": "a387e1e5",
   "metadata": {},
   "outputs": [],
   "source": [
    "def CMS(expiry, tenor, delta):\n",
    "    F       = forward_SWAP_RATE(expiry, tenor, delta)\n",
    "    alpha   = SABRParams(expiry,tenor,df_alpha)\n",
    "    rho     = SABRParams(expiry,tenor,df_rho)\n",
    "    nu      = SABRParams(expiry,tenor,df_nu)\n",
    "    VRec    = quad(lambda x:integrand(F,x,expiry,0,\n",
    "                                      SABR(F,x,expiry,alpha,0.9,rho,nu),\n",
    "                                      tenor, delta, 'Put'), 0, F)\n",
    "    VPay    = quad(lambda x:integrand(F,x,expiry,0,\n",
    "                                      SABR(F,x,expiry,alpha,0.9,rho,nu),\n",
    "                                      tenor, delta, 'Call'), F, 0.1) \n",
    "\n",
    "    return F + VRec[0] + VPay[0]"
   ]
  },
  {
   "cell_type": "markdown",
   "id": "244ab458",
   "metadata": {},
   "source": [
    "PV of CMS Leg is the sum of the discounted values of the CMS rates, multiplied by day count fraction: \n",
    "\\begin{equation}\n",
    "PV_{CMS}=\\sum_{i=1}^\\frac{N}{\\Delta} D_{0}\\left(0, T_{i}\\right) \\cdot E^{T}\\left[S_{n, N}(T)\\right] \\cdot \\Delta\n",
    "\\end{equation}"
   ]
  },
  {
   "cell_type": "code",
   "execution_count": 20,
   "id": "5f099652",
   "metadata": {},
   "outputs": [],
   "source": [
    "def PV_CMS(tenor, cms_period, delta):\n",
    "    n = int(cms_period/delta)\n",
    "    pv = 0\n",
    "    for i in range(1,n+1):\n",
    "        loc = i*delta\n",
    "        pv += OISDF(loc) * CMS(loc,tenor,delta) * delta \n",
    "    return pv"
   ]
  },
  {
   "cell_type": "markdown",
   "id": "08251ccb",
   "metadata": {},
   "source": [
    "### Question 1"
   ]
  },
  {
   "cell_type": "markdown",
   "id": "a4436684",
   "metadata": {},
   "source": [
    "Using the SABR model calibrated in the previous question, value the following constant maturity swap (CMS) products:\n",
    "\n",
    "* PV of a leg receiving CMS10y semi-annually over the next 5 years\n",
    "* PV of a leg receiving CMS2y quarterly over the next 10 years"
   ]
  },
  {
   "cell_type": "code",
   "execution_count": 21,
   "id": "4c9168f5",
   "metadata": {},
   "outputs": [
    {
     "name": "stdout",
     "output_type": "stream",
     "text": [
      "PV of a leg receiving CMS10y semi-annually over the next 5 years =  0.20209\n"
     ]
    }
   ],
   "source": [
    "tenor = 10\n",
    "cms_period = 5\n",
    "delta = 0.5\n",
    "\n",
    "PV = PV_CMS(tenor, cms_period, delta)\n",
    "print('PV of a leg receiving CMS10y semi-annually over the next 5 years = ',PV.round(5) )"
   ]
  },
  {
   "cell_type": "code",
   "execution_count": 22,
   "id": "ee8d6a97",
   "metadata": {},
   "outputs": [
    {
     "name": "stdout",
     "output_type": "stream",
     "text": [
      "PV of a leg receiving CMS2y quarterly over the next 10 years =  0.38185\n"
     ]
    }
   ],
   "source": [
    "tenor = 2\n",
    "cms_period = 10\n",
    "delta = 0.25\n",
    "\n",
    "PV = PV_CMS(tenor, cms_period, delta)\n",
    "print('PV of a leg receiving CMS2y quarterly over the next 10 years = ',PV.round(5) )"
   ]
  },
  {
   "cell_type": "markdown",
   "id": "29ca2bb1",
   "metadata": {},
   "source": [
    "### Question 2"
   ]
  },
  {
   "cell_type": "markdown",
   "id": "8292c71a",
   "metadata": {},
   "source": [
    "Compare the forward swap rates with the CMS rate:\n",
    "\n",
    "* 1y x 1y, 1y x 2y, 1y x 3y, 1y x 5y, 1y x 10y\n",
    "* 5y x 1y, 5y x 2y, 5y x 3y, 5y x 5y, 5y x 10y\n",
    "* 10y x 1y, 10y x 2y, 10y x 3y, 10y x 5y, 10y x 10y"
   ]
  },
  {
   "cell_type": "code",
   "execution_count": 23,
   "id": "ee58f02c",
   "metadata": {},
   "outputs": [
    {
     "data": {
      "text/plain": [
       "[0.03211967855565483,\n",
       " 0.03338160398718786,\n",
       " 0.034119621785810135,\n",
       " 0.03532554709056438,\n",
       " 0.03849569682879417,\n",
       " 0.04012891909769689,\n",
       " 0.040756265523186515,\n",
       " 0.04066358393838474,\n",
       " 0.041532028162479646,\n",
       " 0.04405030075760411,\n",
       " 0.043635033179426165,\n",
       " 0.04432244987037833,\n",
       " 0.04522537432129148,\n",
       " 0.0472099310937907,\n",
       " 0.05452749355998453]"
      ]
     },
     "execution_count": 23,
     "metadata": {},
     "output_type": "execute_result"
    }
   ],
   "source": [
    "#calculate CMS rates\n",
    "expiry = [1, 5, 10]\n",
    "tenor = [1, 2, 3, 5, 10]\n",
    "delta = 0.5\n",
    "\n",
    "CMS_list = []\n",
    "for i in expiry:\n",
    "    for j in tenor:\n",
    "        CMS_list.append(CMS(i,j,delta))\n",
    "CMS_list"
   ]
  },
  {
   "cell_type": "code",
   "execution_count": 24,
   "id": "7543d937",
   "metadata": {},
   "outputs": [],
   "source": [
    "Index = ['1 x 1', '1 x 2', '1 x 3', '1 x 5', '1 x 10',\n",
    "         '5 x 1', '5 x 2', '5 x 3', '5 x 5', '5 x 10',\n",
    "         '10 x 1', '10 x 2', '10 x 3', '10 x 5', '10 x 10']"
   ]
  },
  {
   "cell_type": "code",
   "execution_count": 25,
   "id": "6a9cfe95",
   "metadata": {},
   "outputs": [
    {
     "data": {
      "text/html": [
       "<div>\n",
       "<style scoped>\n",
       "    .dataframe tbody tr th:only-of-type {\n",
       "        vertical-align: middle;\n",
       "    }\n",
       "\n",
       "    .dataframe tbody tr th {\n",
       "        vertical-align: top;\n",
       "    }\n",
       "\n",
       "    .dataframe thead th {\n",
       "        text-align: right;\n",
       "    }\n",
       "</style>\n",
       "<table border=\"1\" class=\"dataframe\">\n",
       "  <thead>\n",
       "    <tr style=\"text-align: right;\">\n",
       "      <th></th>\n",
       "      <th>CMS_Rate</th>\n",
       "      <th>Forward_Swap_Rate</th>\n",
       "    </tr>\n",
       "  </thead>\n",
       "  <tbody>\n",
       "    <tr>\n",
       "      <th>1 x 1</th>\n",
       "      <td>0.032120</td>\n",
       "      <td>0.032007</td>\n",
       "    </tr>\n",
       "    <tr>\n",
       "      <th>1 x 2</th>\n",
       "      <td>0.033382</td>\n",
       "      <td>0.033259</td>\n",
       "    </tr>\n",
       "    <tr>\n",
       "      <th>1 x 3</th>\n",
       "      <td>0.034120</td>\n",
       "      <td>0.034011</td>\n",
       "    </tr>\n",
       "    <tr>\n",
       "      <th>1 x 5</th>\n",
       "      <td>0.035326</td>\n",
       "      <td>0.035255</td>\n",
       "    </tr>\n",
       "    <tr>\n",
       "      <th>1 x 10</th>\n",
       "      <td>0.038496</td>\n",
       "      <td>0.038428</td>\n",
       "    </tr>\n",
       "    <tr>\n",
       "      <th>5 x 1</th>\n",
       "      <td>0.040129</td>\n",
       "      <td>0.039274</td>\n",
       "    </tr>\n",
       "    <tr>\n",
       "      <th>5 x 2</th>\n",
       "      <td>0.040756</td>\n",
       "      <td>0.040075</td>\n",
       "    </tr>\n",
       "    <tr>\n",
       "      <th>5 x 3</th>\n",
       "      <td>0.040664</td>\n",
       "      <td>0.040072</td>\n",
       "    </tr>\n",
       "    <tr>\n",
       "      <th>5 x 5</th>\n",
       "      <td>0.041532</td>\n",
       "      <td>0.041093</td>\n",
       "    </tr>\n",
       "    <tr>\n",
       "      <th>5 x 10</th>\n",
       "      <td>0.044050</td>\n",
       "      <td>0.043634</td>\n",
       "    </tr>\n",
       "    <tr>\n",
       "      <th>10 x 1</th>\n",
       "      <td>0.043635</td>\n",
       "      <td>0.042190</td>\n",
       "    </tr>\n",
       "    <tr>\n",
       "      <th>10 x 2</th>\n",
       "      <td>0.044322</td>\n",
       "      <td>0.043116</td>\n",
       "    </tr>\n",
       "    <tr>\n",
       "      <th>10 x 3</th>\n",
       "      <td>0.045225</td>\n",
       "      <td>0.044097</td>\n",
       "    </tr>\n",
       "    <tr>\n",
       "      <th>10 x 5</th>\n",
       "      <td>0.047210</td>\n",
       "      <td>0.046249</td>\n",
       "    </tr>\n",
       "    <tr>\n",
       "      <th>10 x 10</th>\n",
       "      <td>0.054527</td>\n",
       "      <td>0.053458</td>\n",
       "    </tr>\n",
       "  </tbody>\n",
       "</table>\n",
       "</div>"
      ],
      "text/plain": [
       "         CMS_Rate  Forward_Swap_Rate\n",
       "1 x 1    0.032120           0.032007\n",
       "1 x 2    0.033382           0.033259\n",
       "1 x 3    0.034120           0.034011\n",
       "1 x 5    0.035326           0.035255\n",
       "1 x 10   0.038496           0.038428\n",
       "5 x 1    0.040129           0.039274\n",
       "5 x 2    0.040756           0.040075\n",
       "5 x 3    0.040664           0.040072\n",
       "5 x 5    0.041532           0.041093\n",
       "5 x 10   0.044050           0.043634\n",
       "10 x 1   0.043635           0.042190\n",
       "10 x 2   0.044322           0.043116\n",
       "10 x 3   0.045225           0.044097\n",
       "10 x 5   0.047210           0.046249\n",
       "10 x 10  0.054527           0.053458"
      ]
     },
     "execution_count": 25,
     "metadata": {},
     "output_type": "execute_result"
    }
   ],
   "source": [
    "comparison = pd.DataFrame({'CMS_Rate':CMS_list, 'Forward_Swap_Rate':df_SABRImpVol[\"FSR\"].values }, index = Index)\n",
    "comparison"
   ]
  },
  {
   "cell_type": "code",
   "execution_count": 26,
   "id": "25ac8eea",
   "metadata": {},
   "outputs": [
    {
     "data": {
      "text/html": [
       "<div>\n",
       "<style scoped>\n",
       "    .dataframe tbody tr th:only-of-type {\n",
       "        vertical-align: middle;\n",
       "    }\n",
       "\n",
       "    .dataframe tbody tr th {\n",
       "        vertical-align: top;\n",
       "    }\n",
       "\n",
       "    .dataframe thead th {\n",
       "        text-align: right;\n",
       "    }\n",
       "</style>\n",
       "<table border=\"1\" class=\"dataframe\">\n",
       "  <thead>\n",
       "    <tr style=\"text-align: right;\">\n",
       "      <th></th>\n",
       "      <th>CMS_Rate</th>\n",
       "      <th>Forward_Swap_Rate</th>\n",
       "      <th>Difference</th>\n",
       "    </tr>\n",
       "  </thead>\n",
       "  <tbody>\n",
       "    <tr>\n",
       "      <th>1 x 1</th>\n",
       "      <td>0.032120</td>\n",
       "      <td>0.032007</td>\n",
       "      <td>0.000113</td>\n",
       "    </tr>\n",
       "    <tr>\n",
       "      <th>1 x 2</th>\n",
       "      <td>0.033382</td>\n",
       "      <td>0.033259</td>\n",
       "      <td>0.000122</td>\n",
       "    </tr>\n",
       "    <tr>\n",
       "      <th>1 x 3</th>\n",
       "      <td>0.034120</td>\n",
       "      <td>0.034011</td>\n",
       "      <td>0.000109</td>\n",
       "    </tr>\n",
       "    <tr>\n",
       "      <th>1 x 5</th>\n",
       "      <td>0.035326</td>\n",
       "      <td>0.035255</td>\n",
       "      <td>0.000070</td>\n",
       "    </tr>\n",
       "    <tr>\n",
       "      <th>1 x 10</th>\n",
       "      <td>0.038496</td>\n",
       "      <td>0.038428</td>\n",
       "      <td>0.000068</td>\n",
       "    </tr>\n",
       "    <tr>\n",
       "      <th>5 x 1</th>\n",
       "      <td>0.040129</td>\n",
       "      <td>0.039274</td>\n",
       "      <td>0.000855</td>\n",
       "    </tr>\n",
       "    <tr>\n",
       "      <th>5 x 2</th>\n",
       "      <td>0.040756</td>\n",
       "      <td>0.040075</td>\n",
       "      <td>0.000681</td>\n",
       "    </tr>\n",
       "    <tr>\n",
       "      <th>5 x 3</th>\n",
       "      <td>0.040664</td>\n",
       "      <td>0.040072</td>\n",
       "      <td>0.000591</td>\n",
       "    </tr>\n",
       "    <tr>\n",
       "      <th>5 x 5</th>\n",
       "      <td>0.041532</td>\n",
       "      <td>0.041093</td>\n",
       "      <td>0.000439</td>\n",
       "    </tr>\n",
       "    <tr>\n",
       "      <th>5 x 10</th>\n",
       "      <td>0.044050</td>\n",
       "      <td>0.043634</td>\n",
       "      <td>0.000416</td>\n",
       "    </tr>\n",
       "    <tr>\n",
       "      <th>10 x 1</th>\n",
       "      <td>0.043635</td>\n",
       "      <td>0.042190</td>\n",
       "      <td>0.001446</td>\n",
       "    </tr>\n",
       "    <tr>\n",
       "      <th>10 x 2</th>\n",
       "      <td>0.044322</td>\n",
       "      <td>0.043116</td>\n",
       "      <td>0.001206</td>\n",
       "    </tr>\n",
       "    <tr>\n",
       "      <th>10 x 3</th>\n",
       "      <td>0.045225</td>\n",
       "      <td>0.044097</td>\n",
       "      <td>0.001128</td>\n",
       "    </tr>\n",
       "    <tr>\n",
       "      <th>10 x 5</th>\n",
       "      <td>0.047210</td>\n",
       "      <td>0.046249</td>\n",
       "      <td>0.000961</td>\n",
       "    </tr>\n",
       "    <tr>\n",
       "      <th>10 x 10</th>\n",
       "      <td>0.054527</td>\n",
       "      <td>0.053458</td>\n",
       "      <td>0.001069</td>\n",
       "    </tr>\n",
       "  </tbody>\n",
       "</table>\n",
       "</div>"
      ],
      "text/plain": [
       "         CMS_Rate  Forward_Swap_Rate  Difference\n",
       "1 x 1    0.032120           0.032007    0.000113\n",
       "1 x 2    0.033382           0.033259    0.000122\n",
       "1 x 3    0.034120           0.034011    0.000109\n",
       "1 x 5    0.035326           0.035255    0.000070\n",
       "1 x 10   0.038496           0.038428    0.000068\n",
       "5 x 1    0.040129           0.039274    0.000855\n",
       "5 x 2    0.040756           0.040075    0.000681\n",
       "5 x 3    0.040664           0.040072    0.000591\n",
       "5 x 5    0.041532           0.041093    0.000439\n",
       "5 x 10   0.044050           0.043634    0.000416\n",
       "10 x 1   0.043635           0.042190    0.001446\n",
       "10 x 2   0.044322           0.043116    0.001206\n",
       "10 x 3   0.045225           0.044097    0.001128\n",
       "10 x 5   0.047210           0.046249    0.000961\n",
       "10 x 10  0.054527           0.053458    0.001069"
      ]
     },
     "execution_count": 26,
     "metadata": {},
     "output_type": "execute_result"
    }
   ],
   "source": [
    "comparison[\"Difference\"] = comparison[\"CMS_Rate\"] - comparison[\"Forward_Swap_Rate\"]\n",
    "comparison"
   ]
  },
  {
   "cell_type": "code",
   "execution_count": 27,
   "id": "fe64e7b9",
   "metadata": {},
   "outputs": [
    {
     "data": {
      "image/png": "[encoded data removed]",
      "text/plain": [
       "<Figure size 432x288 with 1 Axes>"
      ]
     },
     "metadata": {
      "needs_background": "light"
     },
     "output_type": "display_data"
    },
    {
     "data": {
      "image/png": "[encoded data removed]",
      "text/plain": [
       "<Figure size 432x288 with 1 Axes>"
      ]
     },
     "metadata": {
      "needs_background": "light"
     },
     "output_type": "display_data"
    },
    {
     "data": {
      "image/png": "[encoded data removed]",
      "text/plain": [
       "<Figure size 432x288 with 1 Axes>"
      ]
     },
     "metadata": {
      "needs_background": "light"
     },
     "output_type": "display_data"
    }
   ],
   "source": [
    "title_list = ['Expiry = 1y', 'Expiry = 5y', 'Expiry = 10y']\n",
    "for i in range(3):\n",
    "    plt.plot(tenor,comparison[\"CMS_Rate\"][i*5:(i+1)*5],label=\"CMS Rate\")\n",
    "    plt.plot(tenor,comparison[\"Forward_Swap_Rate\"][i*5:(i+1)*5],label=\"Forward Swap Rate\")\n",
    "    plt.title(title_list[i])\n",
    "    plt.ylabel(\"Rate\")\n",
    "    plt.xlabel(\"Tenor\")\n",
    "    plt.legend()\n",
    "    plt.grid()\n",
    "    plt.show()"
   ]
  },
  {
   "cell_type": "code",
   "execution_count": 28,
   "id": "fdfe4f04",
   "metadata": {},
   "outputs": [],
   "source": [
    "comparison.to_csv(\"Rates.csv\")"
   ]
  },
  {
   "cell_type": "markdown",
   "id": "3941171a",
   "metadata": {},
   "source": [
    "                        ----- END OF PART 3 -----"
   ]
  }
 ],
 "metadata": {
  "kernelspec": {
   "display_name": "Python 3 (ipykernel)",
   "language": "python",
   "name": "python3"
  },
  "language_info": {
   "codemirror_mode": {
    "name": "ipython",
    "version": 3
   },
   "file_extension": ".py",
   "mimetype": "text/x-python",
   "name": "python",
   "nbconvert_exporter": "python",
   "pygments_lexer": "ipython3",
   "version": "3.11.4"
  }
 },
 "nbformat": 4,
 "nbformat_minor": 5
}
